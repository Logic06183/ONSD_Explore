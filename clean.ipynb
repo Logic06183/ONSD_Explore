{
 "cells": [
  {
   "cell_type": "code",
   "execution_count": 5,
   "metadata": {},
   "outputs": [
    {
     "ename": "ModuleNotFoundError",
     "evalue": "No module named 'xgboost'",
     "output_type": "error",
     "traceback": [
      "\u001b[0;31m---------------------------------------------------------------------------\u001b[0m",
      "\u001b[0;31mModuleNotFoundError\u001b[0m                       Traceback (most recent call last)",
      "Cell \u001b[0;32mIn[5], line 1\u001b[0m\n\u001b[0;32m----> 1\u001b[0m \u001b[38;5;28;01mimport\u001b[39;00m \u001b[38;5;21;01mxgboost\u001b[39;00m \u001b[38;5;28;01mas\u001b[39;00m \u001b[38;5;21;01mxgb\u001b[39;00m\n\u001b[1;32m      2\u001b[0m \u001b[38;5;28;01mfrom\u001b[39;00m \u001b[38;5;21;01msklearn\u001b[39;00m\u001b[38;5;21;01m.\u001b[39;00m\u001b[38;5;21;01mmetrics\u001b[39;00m \u001b[38;5;28;01mimport\u001b[39;00m mean_squared_error, mean_absolute_error\n\u001b[1;32m      3\u001b[0m \u001b[38;5;28;01mimport\u001b[39;00m \u001b[38;5;21;01mpandas\u001b[39;00m \u001b[38;5;28;01mas\u001b[39;00m \u001b[38;5;21;01mpd\u001b[39;00m\n",
      "\u001b[0;31mModuleNotFoundError\u001b[0m: No module named 'xgboost'"
     ]
    }
   ],
   "source": [
    "import xgboost as xgb\n",
    "from sklearn.metrics import mean_squared_error, mean_absolute_error\n",
    "import pandas as pd\n",
    "import numpy as np\n",
    "import matplotlib.pyplot as plt\n",
    "import pingouin as pg\n",
    "\n",
    "# Load your data again if not already loaded\n",
    "images, onsd_measurements = load_data('Meta_pic_3.xlsx', preprocessed_dir)\n",
    "images = images / 255.0\n",
    "images = images.reshape(images.shape + (1,))\n",
    "X_train, X_test, y_train, y_test = train_test_split(images, onsd_measurements, test_size=0.2, random_state=42)\n",
    "\n",
    "# Flatten the images for XGBoost\n",
    "X_train_flat = X_train.reshape(X_train.shape[0], -1)\n",
    "X_test_flat = X_test.reshape(X_test.shape[0], -1)\n",
    "\n",
    "# Define the parameters for XGBoost based on Rust results\n",
    "params = {\n",
    "    'max_depth': 10,         # Higher complexity\n",
    "    'learning_rate': 0.1,    # Adjusted learning rate\n",
    "    'n_estimators': 100,     # Number of boosting rounds\n",
    "    'subsample': 1.0,        # Use all samples\n",
    "    'colsample_bytree': 1.0, # Use all features\n",
    "    'objective': 'reg:squarederror',\n",
    "    'random_state': 42\n",
    "}\n",
    "\n",
    "# Create the XGBoost regressor\n",
    "xgb_reg = xgb.XGBRegressor(**params)\n",
    "\n",
    "# Train the model\n",
    "xgb_reg.fit(X_train_flat, y_train)\n",
    "\n",
    "# Evaluate the model\n",
    "y_pred_xgb = xgb_reg.predict(X_test_flat)\n",
    "mae_xgb = mean_absolute_error(y_test, y_pred_xgb)\n",
    "rmse_xgb = np.sqrt(mean_squared_error(y_test, y_pred_xgb))\n",
    "print(f\"XGBoost MAE: {mae_xgb}, RMSE: {rmse_xgb}\")\n",
    "\n",
    "# Calculate ICC\n",
    "icc = pg.intraclass_corr(data=pd.DataFrame({'y_test': y_test, 'y_pred_xgb': y_pred_xgb}), targets='y_test', raters='y_pred_xgb').round(3)\n",
    "print(f\"Intraclass Correlation Coefficient (ICC): \\n{icc}\")\n",
    "\n",
    "# Create Bland-Altman plot for the XGBoost model\n",
    "bland_altman_df_xgb = pd.DataFrame({\n",
    "    'Actual ONSD': y_test,\n",
    "    'Predicted ONSD': y_pred_xgb\n",
    "})\n",
    "\n",
    "# Calculate differences and averages\n",
    "bland_altman_df_xgb['Difference'] = bland_altman_df_xgb['Actual ONSD'] - bland_altman_df_xgb['Predicted ONSD']\n",
    "bland_altman_df_xgb['Average'] = (bland_altman_df_xgb['Actual ONSD'] + bland_altman_df_xgb['Predicted ONSD']) / 2\n",
    "\n",
    "# Calculate bias and limits of agreement\n",
    "bias = bland_altman_df_xgb['Difference'].mean()\n",
    "std_dev = bland_altman_df_xgb['Difference'].std()\n",
    "upper_loa = bias + 1.96 * std_dev\n",
    "lower_loa = bias - 1.96 * std_dev\n",
    "\n",
    "# Create the Bland-Altman plot\n",
    "plt.figure(figsize=(10, 6))\n",
    "plt.scatter(bland_altman_df_xgb['Average'], bland_altman_df_xgb['Difference'], s=30)\n",
    "plt.axhline(bias, color='black', linestyle='--', label=f'Bias: {bias:.2f}')  # Bias line\n",
    "plt.axhline(upper_loa, color='gray', linestyle='--', label=f'Upper LOA: {upper_loa:.2f}')  # Upper LOA\n",
    "plt.axhline(lower_loa, color='gray', linestyle='--', label=f'Lower LOA: {lower_loa:.2f}')  # Lower LOA\n",
    "plt.xlabel('Average of Actual and Predicted ONSD')\n",
    "plt.ylabel('Difference between Actual and Predicted ONSD')\n",
    "plt.title('Bland-Altman Plot for XGBoost Model')\n",
    "plt.legend()\n",
    "plt.show()\n"
   ]
  }
 ],
 "metadata": {
  "kernelspec": {
   "display_name": "venv",
   "language": "python",
   "name": "python3"
  },
  "language_info": {
   "codemirror_mode": {
    "name": "ipython",
    "version": 3
   },
   "file_extension": ".py",
   "mimetype": "text/x-python",
   "name": "python",
   "nbconvert_exporter": "python",
   "pygments_lexer": "ipython3",
   "version": "3.10.14"
  }
 },
 "nbformat": 4,
 "nbformat_minor": 2
}
