{
 "cells": [
  {
   "cell_type": "code",
   "execution_count": 5,
   "metadata": {},
   "outputs": [],
   "source": [
    "import pandas as pd\n",
    "import os\n",
    "from PIL import Image\n",
    "import numpy as np\n",
    "\n",
    "# Correct base directory for your processed images\n",
    "base_dir = r\"C:\\Users\\cparker\\OneDrive - WRHI\\Andrew\\FilesReport_UJReport_2024-03-14_1413 (1)\\FilesReport_UJReport_2024-03-14_1413\\documents\\processed_images\"\n",
    "\n",
    "# Assuming you have 'image_measurements.csv' in the same directory as your processed images\n",
    "csv_file = os.path.join(base_dir, 'image_measurements.csv')\n",
    "df = pd.read_csv(csv_file)\n",
    "\n",
    "# Function to load images based on the corrected path\n",
    "def load_images(df, base_dir):\n",
    "    images = []\n",
    "    for _, row in df.iterrows():\n",
    "        image_path = os.path.join(base_dir, row['image_filename'])\n",
    "        try:\n",
    "            with Image.open(image_path) as img:\n",
    "                img = img.resize((128, 128))  # Resize for uniformity\n",
    "                img_array = np.array(img)\n",
    "                images.append(img_array)\n",
    "        except FileNotFoundError:\n",
    "            print(f\"File not found: {image_path}\")\n",
    "    return np.array(images)\n",
    "\n",
    "images = load_images(df, base_dir)\n",
    "onsd_measurements = df['onsd_measurement'].values\n",
    "\n",
    "# Normalize images\n",
    "images = images / 255.0\n",
    "\n",
    "# Split data into training and testing\n",
    "X_train, X_test, y_train, y_test = train_test_split(images, onsd_measurements, test_size=0.2, random_state=42)\n",
    "\n"
   ]
  },
  {
   "cell_type": "code",
   "execution_count": 6,
   "metadata": {},
   "outputs": [
    {
     "ename": "Exception",
     "evalue": "You need either charset_normalizer or chardet installed",
     "output_type": "error",
     "traceback": [
      "\u001b[1;31m---------------------------------------------------------------------------\u001b[0m",
      "\u001b[1;31mException\u001b[0m                                 Traceback (most recent call last)",
      "Cell \u001b[1;32mIn[6], line 2\u001b[0m\n\u001b[0;32m      1\u001b[0m \u001b[38;5;28;01mimport\u001b[39;00m \u001b[38;5;21;01mpandas\u001b[39;00m \u001b[38;5;28;01mas\u001b[39;00m \u001b[38;5;21;01mpd\u001b[39;00m\n\u001b[1;32m----> 2\u001b[0m \u001b[38;5;28;01mimport\u001b[39;00m \u001b[38;5;21;01mh2o\u001b[39;00m\n\u001b[0;32m      4\u001b[0m \u001b[38;5;66;03m# Convert the numpy array and measurements into a DataFrame\u001b[39;00m\n\u001b[0;32m      5\u001b[0m df \u001b[38;5;241m=\u001b[39m pd\u001b[38;5;241m.\u001b[39mDataFrame(image_data)\n",
      "File \u001b[1;32mc:\\Users\\cparker\\AppData\\Local\\anaconda3\\envs\\new_env_name\\Lib\\site-packages\\h2o\\__init__.py:26\u001b[0m\n\u001b[0;32m     18\u001b[0m     warnings\u001b[38;5;241m.\u001b[39mshowwarning(\n\u001b[0;32m     19\u001b[0m         \u001b[38;5;124m\"\u001b[39m\u001b[38;5;124mYour Python version \u001b[39m\u001b[38;5;132;01m%s\u001b[39;00m\u001b[38;5;124m is not supported. Officially supported versions are 3.6.x - 3.9.x\u001b[39m\u001b[38;5;124m\"\u001b[39m \u001b[38;5;241m%\u001b[39m sys\u001b[38;5;241m.\u001b[39mversion,\n\u001b[0;32m     20\u001b[0m         \u001b[38;5;167;01mWarning\u001b[39;00m,\n\u001b[0;32m     21\u001b[0m         \u001b[38;5;124m\"\u001b[39m\u001b[38;5;124mh2o\u001b[39m\u001b[38;5;124m\"\u001b[39m,\n\u001b[0;32m     22\u001b[0m         \u001b[38;5;241m1\u001b[39m)\n\u001b[0;32m     24\u001b[0m __no_export \u001b[38;5;241m=\u001b[39m \u001b[38;5;28mset\u001b[39m(\u001b[38;5;28mdir\u001b[39m())  \u001b[38;5;66;03m# variables defined above this are not exported\u001b[39;00m\n\u001b[1;32m---> 26\u001b[0m \u001b[38;5;28;01mfrom\u001b[39;00m \u001b[38;5;21;01mh2o\u001b[39;00m\u001b[38;5;21;01m.\u001b[39;00m\u001b[38;5;21;01mh2o\u001b[39;00m \u001b[38;5;28;01mimport\u001b[39;00m (connect, init, api, connection, resume,\n\u001b[0;32m     27\u001b[0m                      lazy_import, upload_file, import_file, import_sql_table, import_sql_select, import_hive_table,\n\u001b[0;32m     28\u001b[0m                      parse_setup, parse_raw, assign, deep_copy, models, get_model, get_grid, get_frame,\n\u001b[0;32m     29\u001b[0m                      show_progress, no_progress, enable_expr_optimizations, is_expr_optimizations_enabled,\n\u001b[0;32m     30\u001b[0m                      log_and_echo, remove, remove_all, rapids,\n\u001b[0;32m     31\u001b[0m                      ls, frame, frames, create_frame, load_frame,\n\u001b[0;32m     32\u001b[0m                      download_pojo, download_csv, download_all_logs, save_model, download_model, upload_model, load_model,\n\u001b[0;32m     33\u001b[0m                      export_file,\n\u001b[0;32m     34\u001b[0m                      cluster_status, cluster_info, shutdown, network_test, cluster,\n\u001b[0;32m     35\u001b[0m                      interaction, as_list,\n\u001b[0;32m     36\u001b[0m                      get_timezone, set_timezone, list_timezones,\n\u001b[0;32m     37\u001b[0m                      load_dataset, demo, make_metrics, flow, upload_custom_metric, upload_custom_distribution,\n\u001b[0;32m     38\u001b[0m                      import_mojo, upload_mojo, print_mojo, load_grid, save_grid, estimate_cluster_mem)\n\u001b[0;32m     39\u001b[0m \u001b[38;5;28;01mfrom\u001b[39;00m \u001b[38;5;21;01mh2o\u001b[39;00m\u001b[38;5;21;01m.\u001b[39;00m\u001b[38;5;21;01mutils\u001b[39;00m\u001b[38;5;21;01m.\u001b[39;00m\u001b[38;5;21;01mshared_utils\u001b[39;00m \u001b[38;5;28;01mimport\u001b[39;00m mojo_predict_csv, mojo_predict_pandas\n\u001b[0;32m     40\u001b[0m \u001b[38;5;28;01mfrom\u001b[39;00m \u001b[38;5;21;01mh2o\u001b[39;00m\u001b[38;5;21;01m.\u001b[39;00m\u001b[38;5;21;01mscoring\u001b[39;00m \u001b[38;5;28;01mimport\u001b[39;00m make_leaderboard\n",
      "File \u001b[1;32mc:\\Users\\cparker\\AppData\\Local\\anaconda3\\envs\\new_env_name\\Lib\\site-packages\\h2o\\h2o.py:14\u001b[0m\n\u001b[0;32m     11\u001b[0m \u001b[38;5;28;01mimport\u001b[39;00m \u001b[38;5;21;01mwarnings\u001b[39;00m\n\u001b[0;32m     12\u001b[0m \u001b[38;5;28;01mimport\u001b[39;00m \u001b[38;5;21;01mwebbrowser\u001b[39;00m\n\u001b[1;32m---> 14\u001b[0m \u001b[38;5;28;01mfrom\u001b[39;00m \u001b[38;5;21;01m.\u001b[39;00m\u001b[38;5;21;01mbackend\u001b[39;00m \u001b[38;5;28;01mimport\u001b[39;00m H2OConnection\n\u001b[0;32m     15\u001b[0m \u001b[38;5;28;01mfrom\u001b[39;00m \u001b[38;5;21;01m.\u001b[39;00m\u001b[38;5;21;01mbackend\u001b[39;00m \u001b[38;5;28;01mimport\u001b[39;00m H2OConnectionConf\n\u001b[0;32m     16\u001b[0m \u001b[38;5;28;01mfrom\u001b[39;00m \u001b[38;5;21;01m.\u001b[39;00m\u001b[38;5;21;01mbackend\u001b[39;00m \u001b[38;5;28;01mimport\u001b[39;00m H2OLocalServer\n",
      "File \u001b[1;32mc:\\Users\\cparker\\AppData\\Local\\anaconda3\\envs\\new_env_name\\Lib\\site-packages\\h2o\\backend\\__init__.py:45\u001b[0m\n\u001b[0;32m     43\u001b[0m \u001b[38;5;28;01mfrom\u001b[39;00m \u001b[38;5;21;01m.\u001b[39;00m\u001b[38;5;21;01mcluster\u001b[39;00m \u001b[38;5;28;01mimport\u001b[39;00m H2OCluster\n\u001b[0;32m     44\u001b[0m \u001b[38;5;28;01mfrom\u001b[39;00m \u001b[38;5;21;01m.\u001b[39;00m\u001b[38;5;21;01mserver\u001b[39;00m \u001b[38;5;28;01mimport\u001b[39;00m H2OLocalServer\n\u001b[1;32m---> 45\u001b[0m \u001b[38;5;28;01mfrom\u001b[39;00m \u001b[38;5;21;01m.\u001b[39;00m\u001b[38;5;21;01mconnection\u001b[39;00m \u001b[38;5;28;01mimport\u001b[39;00m H2OConnection\n\u001b[0;32m     46\u001b[0m \u001b[38;5;28;01mfrom\u001b[39;00m \u001b[38;5;21;01m.\u001b[39;00m\u001b[38;5;21;01mconnection\u001b[39;00m \u001b[38;5;28;01mimport\u001b[39;00m H2OConnectionConf\n\u001b[0;32m     48\u001b[0m __all__ \u001b[38;5;241m=\u001b[39m (\u001b[38;5;124m\"\u001b[39m\u001b[38;5;124mH2OCluster\u001b[39m\u001b[38;5;124m\"\u001b[39m, \u001b[38;5;124m\"\u001b[39m\u001b[38;5;124mH2OConnection\u001b[39m\u001b[38;5;124m\"\u001b[39m, \u001b[38;5;124m\"\u001b[39m\u001b[38;5;124mH2OLocalServer\u001b[39m\u001b[38;5;124m\"\u001b[39m, \u001b[38;5;124m\"\u001b[39m\u001b[38;5;124mH2OConnectionConf\u001b[39m\u001b[38;5;124m\"\u001b[39m)\n",
      "File \u001b[1;32mc:\\Users\\cparker\\AppData\\Local\\anaconda3\\envs\\new_env_name\\Lib\\site-packages\\h2o\\backend\\connection.py:28\u001b[0m\n\u001b[0;32m     25\u001b[0m \u001b[38;5;28;01mfrom\u001b[39;00m \u001b[38;5;21;01mwarnings\u001b[39;00m \u001b[38;5;28;01mimport\u001b[39;00m warn\n\u001b[0;32m     26\u001b[0m \u001b[38;5;28;01mfrom\u001b[39;00m \u001b[38;5;21;01mweakref\u001b[39;00m \u001b[38;5;28;01mimport\u001b[39;00m ref\n\u001b[1;32m---> 28\u001b[0m \u001b[38;5;28;01mimport\u001b[39;00m \u001b[38;5;21;01mrequests\u001b[39;00m\n\u001b[0;32m     29\u001b[0m \u001b[38;5;28;01mfrom\u001b[39;00m \u001b[38;5;21;01mrequests\u001b[39;00m\u001b[38;5;21;01m.\u001b[39;00m\u001b[38;5;21;01mauth\u001b[39;00m \u001b[38;5;28;01mimport\u001b[39;00m AuthBase\n\u001b[0;32m     31\u001b[0m \u001b[38;5;28;01mfrom\u001b[39;00m \u001b[38;5;21;01mh2o\u001b[39;00m\u001b[38;5;21;01m.\u001b[39;00m\u001b[38;5;21;01mbackend\u001b[39;00m \u001b[38;5;28;01mimport\u001b[39;00m H2OCluster, H2OLocalServer\n",
      "File \u001b[1;32mc:\\Users\\cparker\\AppData\\Local\\anaconda3\\envs\\new_env_name\\Lib\\site-packages\\requests\\__init__.py:105\u001b[0m\n\u001b[0;32m    103\u001b[0m \u001b[38;5;66;03m# Check imported dependencies for compatibility.\u001b[39;00m\n\u001b[0;32m    104\u001b[0m \u001b[38;5;28;01mtry\u001b[39;00m:\n\u001b[1;32m--> 105\u001b[0m     \u001b[43mcheck_compatibility\u001b[49m\u001b[43m(\u001b[49m\n\u001b[0;32m    106\u001b[0m \u001b[43m        \u001b[49m\u001b[43murllib3\u001b[49m\u001b[38;5;241;43m.\u001b[39;49m\u001b[43m__version__\u001b[49m\u001b[43m,\u001b[49m\u001b[43m \u001b[49m\u001b[43mchardet_version\u001b[49m\u001b[43m,\u001b[49m\u001b[43m \u001b[49m\u001b[43mcharset_normalizer_version\u001b[49m\n\u001b[0;32m    107\u001b[0m \u001b[43m    \u001b[49m\u001b[43m)\u001b[49m\n\u001b[0;32m    108\u001b[0m \u001b[38;5;28;01mexcept\u001b[39;00m (\u001b[38;5;167;01mAssertionError\u001b[39;00m, \u001b[38;5;167;01mValueError\u001b[39;00m):\n\u001b[0;32m    109\u001b[0m     warnings\u001b[38;5;241m.\u001b[39mwarn(\n\u001b[0;32m    110\u001b[0m         \u001b[38;5;124m\"\u001b[39m\u001b[38;5;124murllib3 (\u001b[39m\u001b[38;5;132;01m{}\u001b[39;00m\u001b[38;5;124m) or chardet (\u001b[39m\u001b[38;5;132;01m{}\u001b[39;00m\u001b[38;5;124m)/charset_normalizer (\u001b[39m\u001b[38;5;132;01m{}\u001b[39;00m\u001b[38;5;124m) doesn\u001b[39m\u001b[38;5;124m'\u001b[39m\u001b[38;5;124mt match a supported \u001b[39m\u001b[38;5;124m\"\u001b[39m\n\u001b[0;32m    111\u001b[0m         \u001b[38;5;124m\"\u001b[39m\u001b[38;5;124mversion!\u001b[39m\u001b[38;5;124m\"\u001b[39m\u001b[38;5;241m.\u001b[39mformat(\n\u001b[1;32m   (...)\u001b[0m\n\u001b[0;32m    114\u001b[0m         RequestsDependencyWarning,\n\u001b[0;32m    115\u001b[0m     )\n",
      "File \u001b[1;32mc:\\Users\\cparker\\AppData\\Local\\anaconda3\\envs\\new_env_name\\Lib\\site-packages\\requests\\__init__.py:86\u001b[0m, in \u001b[0;36mcheck_compatibility\u001b[1;34m(urllib3_version, chardet_version, charset_normalizer_version)\u001b[0m\n\u001b[0;32m     84\u001b[0m     \u001b[38;5;28;01massert\u001b[39;00m (\u001b[38;5;241m2\u001b[39m, \u001b[38;5;241m0\u001b[39m, \u001b[38;5;241m0\u001b[39m) \u001b[38;5;241m<\u001b[39m\u001b[38;5;241m=\u001b[39m (major, minor, patch) \u001b[38;5;241m<\u001b[39m (\u001b[38;5;241m4\u001b[39m, \u001b[38;5;241m0\u001b[39m, \u001b[38;5;241m0\u001b[39m)\n\u001b[0;32m     85\u001b[0m \u001b[38;5;28;01melse\u001b[39;00m:\n\u001b[1;32m---> 86\u001b[0m     \u001b[38;5;28;01mraise\u001b[39;00m \u001b[38;5;167;01mException\u001b[39;00m(\u001b[38;5;124m\"\u001b[39m\u001b[38;5;124mYou need either charset_normalizer or chardet installed\u001b[39m\u001b[38;5;124m\"\u001b[39m)\n",
      "\u001b[1;31mException\u001b[0m: You need either charset_normalizer or chardet installed"
     ]
    }
   ],
   "source": [
    "import pandas as pd\n",
    "import h2o\n",
    "\n",
    "# Convert the numpy array and measurements into a DataFrame\n",
    "df = pd.DataFrame(image_data)\n",
    "df['onsd_measurement'] = onsd_measurements\n",
    "\n",
    "# Initialize H2O and convert the DataFrame to an H2OFrame\n",
    "h2o.init()\n",
    "hf = h2o.H2OFrame(df)\n",
    "\n"
   ]
  },
  {
   "cell_type": "code",
   "execution_count": null,
   "metadata": {},
   "outputs": [],
   "source": [
    "from h2o.automl import H2OAutoML\n",
    "\n",
    "# Split the data into training, validation, and test sets\n",
    "train, valid, test = hf.split_frame(ratios=[.7, .15], seed=123)\n",
    "\n",
    "# Specify the target column\n",
    "target = 'onsd_measurement'\n",
    "\n",
    "# Run H2O AutoML\n",
    "aml = H2OAutoML(max_models=20, seed=1, max_runtime_secs=1800)\n",
    "aml.train(y=target, training_frame=train, validation_frame=valid)\n",
    "\n",
    "# View the leaderboard\n",
    "lb = aml.leaderboard\n",
    "lb.head(rows=lb.nrows)  # Display all rows instead of the default 10\n"
   ]
  }
 ],
 "metadata": {
  "kernelspec": {
   "display_name": "new_env_name",
   "language": "python",
   "name": "python3"
  },
  "language_info": {
   "codemirror_mode": {
    "name": "ipython",
    "version": 3
   },
   "file_extension": ".py",
   "mimetype": "text/x-python",
   "name": "python",
   "nbconvert_exporter": "python",
   "pygments_lexer": "ipython3",
   "version": "3.11.5"
  }
 },
 "nbformat": 4,
 "nbformat_minor": 2
}
